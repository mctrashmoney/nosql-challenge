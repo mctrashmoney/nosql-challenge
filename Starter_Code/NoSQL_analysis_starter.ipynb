{
 "cells": [
  {
   "cell_type": "markdown",
   "id": "9a57c4c6",
   "metadata": {},
   "source": [
    "# Eat Safe, Love"
   ]
  },
  {
   "cell_type": "markdown",
   "id": "064ef857",
   "metadata": {},
   "source": [
    "## Notebook Set Up"
   ]
  },
  {
   "cell_type": "code",
   "execution_count": 104,
   "id": "3ecdd008",
   "metadata": {},
   "outputs": [],
   "source": [
    "from pymongo import MongoClient\n",
    "import pandas as pd\n",
    "from pprint import pprint"
   ]
  },
  {
   "cell_type": "code",
   "execution_count": 105,
   "id": "59390c4a",
   "metadata": {},
   "outputs": [],
   "source": [
    "# Create an instance of MongoClient\n",
    "mongo = MongoClient(port=27017)"
   ]
  },
  {
   "cell_type": "code",
   "execution_count": 106,
   "id": "71e373c1",
   "metadata": {},
   "outputs": [],
   "source": [
    "# assign the uk_food database to a variable name\n",
    "db = mongo['uk_food']"
   ]
  },
  {
   "cell_type": "code",
   "execution_count": 107,
   "id": "18ab463c",
   "metadata": {},
   "outputs": [
    {
     "name": "stdout",
     "output_type": "stream",
     "text": [
      "['establishments']\n"
     ]
    }
   ],
   "source": [
    "# review the collections in our database\n",
    "print(db.list_collection_names())"
   ]
  },
  {
   "cell_type": "code",
   "execution_count": 108,
   "id": "11c9f11b",
   "metadata": {},
   "outputs": [],
   "source": [
    "# assign the collection to a variable\n",
    "establishments = db['establishments']"
   ]
  },
  {
   "cell_type": "markdown",
   "id": "d5671434",
   "metadata": {},
   "source": [
    "## Part 3: Exploratory Analysis\n",
    "Unless otherwise stated, for each question: \n",
    "* Use `count_documents` to display the number of documents contained in the result.\n",
    "* Display the first document in the results using `pprint`.\n",
    "* Convert the result to a Pandas DataFrame, print the number of rows in the DataFrame, and display the first 10 rows."
   ]
  },
  {
   "cell_type": "markdown",
   "id": "314bd884",
   "metadata": {},
   "source": [
    "### 1. Which establishments have a hygiene score equal to 20?"
   ]
  },
  {
   "cell_type": "code",
   "execution_count": 109,
   "id": "c2da7648",
   "metadata": {},
   "outputs": [
    {
     "name": "stdout",
     "output_type": "stream",
     "text": [
      "Total documents: 41\n",
      "{'BusinessName': 'The Chase Rest Home',\n",
      " '_id': ObjectId('676db06dd198cfc08d961e77'),\n",
      " 'scores': {'Hygiene': 20}}\n"
     ]
    }
   ],
   "source": [
    "# Find the establishments with a hygiene score of 20\n",
    "query = {'scores.Hygiene': 20}\n",
    "fields = {'BusinessName': 1, 'scores.Hygiene': 1}\n",
    "\n",
    "# Use count_documents to display the number of documents in the result\n",
    "document_count = establishments.count_documents(query)\n",
    "print(f\"Total documents: {document_count}\")\n",
    "\n",
    "# Display the first document in the results using pprint\n",
    "results = establishments.find(query, fields)\n",
    "pprint(results[0])"
   ]
  },
  {
   "cell_type": "code",
   "execution_count": 110,
   "id": "a6e5cece",
   "metadata": {},
   "outputs": [
    {
     "name": "stdout",
     "output_type": "stream",
     "text": [
      "Number of rows: 41\n"
     ]
    },
    {
     "data": {
      "text/html": [
       "<div>\n",
       "<style scoped>\n",
       "    .dataframe tbody tr th:only-of-type {\n",
       "        vertical-align: middle;\n",
       "    }\n",
       "\n",
       "    .dataframe tbody tr th {\n",
       "        vertical-align: top;\n",
       "    }\n",
       "\n",
       "    .dataframe thead th {\n",
       "        text-align: right;\n",
       "    }\n",
       "</style>\n",
       "<table border=\"1\" class=\"dataframe\">\n",
       "  <thead>\n",
       "    <tr style=\"text-align: right;\">\n",
       "      <th></th>\n",
       "      <th>_id</th>\n",
       "      <th>BusinessName</th>\n",
       "      <th>HygieneScore</th>\n",
       "    </tr>\n",
       "  </thead>\n",
       "  <tbody>\n",
       "    <tr>\n",
       "      <th>0</th>\n",
       "      <td>676db06dd198cfc08d961e77</td>\n",
       "      <td>The Chase Rest Home</td>\n",
       "      <td>20</td>\n",
       "    </tr>\n",
       "    <tr>\n",
       "      <th>1</th>\n",
       "      <td>676db06dd198cfc08d9621f8</td>\n",
       "      <td>Brenalwood</td>\n",
       "      <td>20</td>\n",
       "    </tr>\n",
       "    <tr>\n",
       "      <th>2</th>\n",
       "      <td>676db06dd198cfc08d962502</td>\n",
       "      <td>Melrose Hotel</td>\n",
       "      <td>20</td>\n",
       "    </tr>\n",
       "    <tr>\n",
       "      <th>3</th>\n",
       "      <td>676db06dd198cfc08d9626f3</td>\n",
       "      <td>Seaford Pizza</td>\n",
       "      <td>20</td>\n",
       "    </tr>\n",
       "    <tr>\n",
       "      <th>4</th>\n",
       "      <td>676db06dd198cfc08d962700</td>\n",
       "      <td>Golden Palace</td>\n",
       "      <td>20</td>\n",
       "    </tr>\n",
       "    <tr>\n",
       "      <th>5</th>\n",
       "      <td>676db06dd198cfc08d9630a2</td>\n",
       "      <td>Ashby's Butchers</td>\n",
       "      <td>20</td>\n",
       "    </tr>\n",
       "    <tr>\n",
       "      <th>6</th>\n",
       "      <td>676db06dd198cfc08d9632bf</td>\n",
       "      <td>South Sea Express Cuisine</td>\n",
       "      <td>20</td>\n",
       "    </tr>\n",
       "    <tr>\n",
       "      <th>7</th>\n",
       "      <td>676db06dd198cfc08d9647ef</td>\n",
       "      <td>Golden Palace</td>\n",
       "      <td>20</td>\n",
       "    </tr>\n",
       "    <tr>\n",
       "      <th>8</th>\n",
       "      <td>676db06dd198cfc08d964c30</td>\n",
       "      <td>The Tulip Tree</td>\n",
       "      <td>20</td>\n",
       "    </tr>\n",
       "    <tr>\n",
       "      <th>9</th>\n",
       "      <td>676db06dd198cfc08d965440</td>\n",
       "      <td>F &amp; S</td>\n",
       "      <td>20</td>\n",
       "    </tr>\n",
       "  </tbody>\n",
       "</table>\n",
       "</div>"
      ],
      "text/plain": [
       "                        _id               BusinessName  HygieneScore\n",
       "0  676db06dd198cfc08d961e77        The Chase Rest Home            20\n",
       "1  676db06dd198cfc08d9621f8                 Brenalwood            20\n",
       "2  676db06dd198cfc08d962502              Melrose Hotel            20\n",
       "3  676db06dd198cfc08d9626f3              Seaford Pizza            20\n",
       "4  676db06dd198cfc08d962700              Golden Palace            20\n",
       "5  676db06dd198cfc08d9630a2           Ashby's Butchers            20\n",
       "6  676db06dd198cfc08d9632bf  South Sea Express Cuisine            20\n",
       "7  676db06dd198cfc08d9647ef              Golden Palace            20\n",
       "8  676db06dd198cfc08d964c30             The Tulip Tree            20\n",
       "9  676db06dd198cfc08d965440                      F & S            20"
      ]
     },
     "execution_count": 110,
     "metadata": {},
     "output_type": "execute_result"
    }
   ],
   "source": [
    "# Convert the result to a Pandas DataFrame\n",
    "df = pd.DataFrame(results)\n",
    "\n",
    "# Display the number of rows in the DataFrame\n",
    "print(f\"Number of rows: {len(df)}\")\n",
    "\n",
    "# Apply a lambda function to extract the BusinessName and Hygiene score\n",
    "df[\"HygieneScore\"] = df[\"scores\"].apply(lambda x: x[\"Hygiene\"])\n",
    "\n",
    "# Drop the scores column from the DataFrame\n",
    "df.drop(columns=[\"scores\"], inplace=True)\n",
    "\n",
    "# Display the first 10 rows of the DataFrame\n",
    "df.head(10)"
   ]
  },
  {
   "cell_type": "markdown",
   "id": "0ef4395a",
   "metadata": {},
   "source": [
    "### 2. Which establishments in London have a `RatingValue` greater than or equal to 4?"
   ]
  },
  {
   "cell_type": "code",
   "execution_count": 111,
   "id": "93c63829",
   "metadata": {},
   "outputs": [
    {
     "name": "stdout",
     "output_type": "stream",
     "text": [
      "Total documents: 33\n",
      "{'BusinessName': \"Charlie's\",\n",
      " 'RatingValue': 4,\n",
      " '_id': ObjectId('676db06dd198cfc08d963891')}\n"
     ]
    }
   ],
   "source": [
    "# Find the establishments with London as the Local Authority and has a RatingValue greater than or equal to 4.\n",
    "query = {'LocalAuthorityName': {'$regex':'London','$options':'i'},\n",
    "         'RatingValue': {'$gte': 4}}\n",
    "fields = {'BusinessName': 1, 'RatingValue': 1}\n",
    "\n",
    "# Use count_documents to display the number of documents in the result\n",
    "documents = establishments.count_documents(query)\n",
    "print(f\"Total documents: {documents}\")\n",
    "\n",
    "# Display the first document in the results using pprint\n",
    "results = establishments.find(query, fields)\n",
    "pprint(results[0])"
   ]
  },
  {
   "cell_type": "code",
   "execution_count": 112,
   "id": "07e24ccb",
   "metadata": {},
   "outputs": [
    {
     "name": "stdout",
     "output_type": "stream",
     "text": [
      "Number of rows: 33\n"
     ]
    },
    {
     "data": {
      "text/html": [
       "<div>\n",
       "<style scoped>\n",
       "    .dataframe tbody tr th:only-of-type {\n",
       "        vertical-align: middle;\n",
       "    }\n",
       "\n",
       "    .dataframe tbody tr th {\n",
       "        vertical-align: top;\n",
       "    }\n",
       "\n",
       "    .dataframe thead th {\n",
       "        text-align: right;\n",
       "    }\n",
       "</style>\n",
       "<table border=\"1\" class=\"dataframe\">\n",
       "  <thead>\n",
       "    <tr style=\"text-align: right;\">\n",
       "      <th></th>\n",
       "      <th>_id</th>\n",
       "      <th>BusinessName</th>\n",
       "      <th>RatingValue</th>\n",
       "    </tr>\n",
       "  </thead>\n",
       "  <tbody>\n",
       "    <tr>\n",
       "      <th>0</th>\n",
       "      <td>676db06dd198cfc08d963891</td>\n",
       "      <td>Charlie's</td>\n",
       "      <td>4</td>\n",
       "    </tr>\n",
       "    <tr>\n",
       "      <th>1</th>\n",
       "      <td>676db06dd198cfc08d963bb7</td>\n",
       "      <td>Mv City Cruises Erasmus</td>\n",
       "      <td>5</td>\n",
       "    </tr>\n",
       "    <tr>\n",
       "      <th>2</th>\n",
       "      <td>676db06dd198cfc08d964705</td>\n",
       "      <td>Benfleet Motor Yacht Club</td>\n",
       "      <td>4</td>\n",
       "    </tr>\n",
       "    <tr>\n",
       "      <th>3</th>\n",
       "      <td>676db06dd198cfc08d965505</td>\n",
       "      <td>Coombs Catering t/a The Lock and Key</td>\n",
       "      <td>5</td>\n",
       "    </tr>\n",
       "    <tr>\n",
       "      <th>4</th>\n",
       "      <td>676db06dd198cfc08d965506</td>\n",
       "      <td>Tilbury Seafarers Centre</td>\n",
       "      <td>5</td>\n",
       "    </tr>\n",
       "    <tr>\n",
       "      <th>5</th>\n",
       "      <td>676db06dd198cfc08d965c0d</td>\n",
       "      <td>Mv Valulla</td>\n",
       "      <td>5</td>\n",
       "    </tr>\n",
       "    <tr>\n",
       "      <th>6</th>\n",
       "      <td>676db06dd198cfc08d967d1c</td>\n",
       "      <td>Tereza Joanne</td>\n",
       "      <td>5</td>\n",
       "    </tr>\n",
       "    <tr>\n",
       "      <th>7</th>\n",
       "      <td>676db06dd198cfc08d9680e3</td>\n",
       "      <td>Brick Lane Brews</td>\n",
       "      <td>4</td>\n",
       "    </tr>\n",
       "    <tr>\n",
       "      <th>8</th>\n",
       "      <td>676db06dd198cfc08d9680fc</td>\n",
       "      <td>The Nuance Group (UK) Limited</td>\n",
       "      <td>5</td>\n",
       "    </tr>\n",
       "    <tr>\n",
       "      <th>9</th>\n",
       "      <td>676db06dd198cfc08d9680fe</td>\n",
       "      <td>WH Smith</td>\n",
       "      <td>5</td>\n",
       "    </tr>\n",
       "  </tbody>\n",
       "</table>\n",
       "</div>"
      ],
      "text/plain": [
       "                        _id                          BusinessName  RatingValue\n",
       "0  676db06dd198cfc08d963891                             Charlie's            4\n",
       "1  676db06dd198cfc08d963bb7               Mv City Cruises Erasmus            5\n",
       "2  676db06dd198cfc08d964705             Benfleet Motor Yacht Club            4\n",
       "3  676db06dd198cfc08d965505  Coombs Catering t/a The Lock and Key            5\n",
       "4  676db06dd198cfc08d965506              Tilbury Seafarers Centre            5\n",
       "5  676db06dd198cfc08d965c0d                            Mv Valulla            5\n",
       "6  676db06dd198cfc08d967d1c                         Tereza Joanne            5\n",
       "7  676db06dd198cfc08d9680e3                      Brick Lane Brews            4\n",
       "8  676db06dd198cfc08d9680fc         The Nuance Group (UK) Limited            5\n",
       "9  676db06dd198cfc08d9680fe                              WH Smith            5"
      ]
     },
     "execution_count": 112,
     "metadata": {},
     "output_type": "execute_result"
    }
   ],
   "source": [
    "# Convert the result to a Pandas DataFrame\n",
    "df_rating = pd.DataFrame(results)\n",
    "\n",
    "# Display the number of rows in the DataFrame\n",
    "print(f\"Number of rows: {len(df_rating)}\")\n",
    "\n",
    "# Display the first 10 rows of the DataFrame\n",
    "df_rating.head(10)"
   ]
  },
  {
   "attachments": {},
   "cell_type": "markdown",
   "id": "4e570caf",
   "metadata": {},
   "source": [
    "### 3. What are the top 5 establishments with a `RatingValue` rating value of 5, sorted by lowest hygiene score, nearest to the new restaurant added, \"Penang Flavours\"?"
   ]
  },
  {
   "cell_type": "code",
   "execution_count": 113,
   "id": "7f599f3d",
   "metadata": {},
   "outputs": [
    {
     "name": "stdout",
     "output_type": "stream",
     "text": [
      "{'BusinessName': 'Volunteer',\n",
      " 'RatingValue': 5,\n",
      " '_id': ObjectId('676db06dd198cfc08d9676d6'),\n",
      " 'scores': {'Hygiene': 0}}\n",
      "{'BusinessName': 'Plumstead Manor Nursery',\n",
      " 'RatingValue': 5,\n",
      " '_id': ObjectId('676db06dd198cfc08d9676ee'),\n",
      " 'scores': {'Hygiene': 0}}\n",
      "{'BusinessName': 'Atlantic Fish Bar',\n",
      " 'RatingValue': 5,\n",
      " '_id': ObjectId('676db06dd198cfc08d9676f0'),\n",
      " 'scores': {'Hygiene': 0}}\n",
      "{'BusinessName': 'Iceland',\n",
      " 'RatingValue': 5,\n",
      " '_id': ObjectId('676db06dd198cfc08d9676aa'),\n",
      " 'scores': {'Hygiene': 0}}\n",
      "{'BusinessName': 'Howe and Co Fish and Chips - Van 17',\n",
      " 'RatingValue': 5,\n",
      " '_id': ObjectId('676db06dd198cfc08d9676b9'),\n",
      " 'scores': {'Hygiene': 0}}\n"
     ]
    }
   ],
   "source": [
    "# Geolocation of Penang Flavours from the previous document\n",
    "# 'geocode': {'latitude': '51.49014200', 'longitude': '0.08384000'}\n",
    "\n",
    "# Search within 0.01 degree on either side of the latitude and longitude.\n",
    "degree_search = 0.01\n",
    "latitude = 51.49014200\n",
    "longitude = 0.08384000\n",
    "\n",
    "query = {\n",
    "    'geocode.latitude': {\n",
    "        '$gte': float(latitude) - degree_search,\n",
    "        '$lte': float(latitude) + degree_search\n",
    "    },\n",
    "    'geocode.longitude': {\n",
    "        '$gte': float(longitude) - degree_search,\n",
    "        '$lte': float(longitude) + degree_search\n",
    "    },\n",
    "    # Rating value must equal 5\n",
    "    'RatingValue': 5\n",
    "}\n",
    "\n",
    "# Sort by hygiene score\n",
    "sort = [('scores.Hygiene', 1)]\n",
    "limit = 5\n",
    "\n",
    "# Print the results\n",
    "hygiene_results = establishments.find(query, { \"BusinessName\":1, \"RatingValue\":1, \"scores.Hygiene\":1}).sort(sort).limit(limit)\n",
    "for result in hygiene_results:\n",
    "    pprint(result)"
   ]
  },
  {
   "cell_type": "code",
   "execution_count": 124,
   "id": "a6ad16f7",
   "metadata": {},
   "outputs": [
    {
     "data": {
      "text/html": [
       "<div>\n",
       "<style scoped>\n",
       "    .dataframe tbody tr th:only-of-type {\n",
       "        vertical-align: middle;\n",
       "    }\n",
       "\n",
       "    .dataframe tbody tr th {\n",
       "        vertical-align: top;\n",
       "    }\n",
       "\n",
       "    .dataframe thead th {\n",
       "        text-align: right;\n",
       "    }\n",
       "</style>\n",
       "<table border=\"1\" class=\"dataframe\">\n",
       "  <thead>\n",
       "    <tr style=\"text-align: right;\">\n",
       "      <th></th>\n",
       "      <th>_id</th>\n",
       "      <th>BusinessName</th>\n",
       "      <th>RatingValue</th>\n",
       "      <th>HygieneScore</th>\n",
       "    </tr>\n",
       "  </thead>\n",
       "  <tbody>\n",
       "    <tr>\n",
       "      <th>0</th>\n",
       "      <td>676db06dd198cfc08d9676d6</td>\n",
       "      <td>Volunteer</td>\n",
       "      <td>5</td>\n",
       "      <td>0</td>\n",
       "    </tr>\n",
       "    <tr>\n",
       "      <th>1</th>\n",
       "      <td>676db06dd198cfc08d9676ee</td>\n",
       "      <td>Plumstead Manor Nursery</td>\n",
       "      <td>5</td>\n",
       "      <td>0</td>\n",
       "    </tr>\n",
       "    <tr>\n",
       "      <th>2</th>\n",
       "      <td>676db06dd198cfc08d9676f0</td>\n",
       "      <td>Atlantic Fish Bar</td>\n",
       "      <td>5</td>\n",
       "      <td>0</td>\n",
       "    </tr>\n",
       "    <tr>\n",
       "      <th>3</th>\n",
       "      <td>676db06dd198cfc08d9676aa</td>\n",
       "      <td>Iceland</td>\n",
       "      <td>5</td>\n",
       "      <td>0</td>\n",
       "    </tr>\n",
       "    <tr>\n",
       "      <th>4</th>\n",
       "      <td>676db06dd198cfc08d9676b9</td>\n",
       "      <td>Howe and Co Fish and Chips - Van 17</td>\n",
       "      <td>5</td>\n",
       "      <td>0</td>\n",
       "    </tr>\n",
       "  </tbody>\n",
       "</table>\n",
       "</div>"
      ],
      "text/plain": [
       "                        _id                         BusinessName  RatingValue  \\\n",
       "0  676db06dd198cfc08d9676d6                            Volunteer            5   \n",
       "1  676db06dd198cfc08d9676ee              Plumstead Manor Nursery            5   \n",
       "2  676db06dd198cfc08d9676f0                    Atlantic Fish Bar            5   \n",
       "3  676db06dd198cfc08d9676aa                              Iceland            5   \n",
       "4  676db06dd198cfc08d9676b9  Howe and Co Fish and Chips - Van 17            5   \n",
       "\n",
       "   HygieneScore  \n",
       "0             0  \n",
       "1             0  \n",
       "2             0  \n",
       "3             0  \n",
       "4             0  "
      ]
     },
     "execution_count": 124,
     "metadata": {},
     "output_type": "execute_result"
    }
   ],
   "source": [
    "# Convert result to Pandas DataFrame\n",
    "hygiene_results = establishments.find(query, {\"BusinessName\": 1, \"RatingValue\": 1, \"scores.Hygiene\": 1}).sort(sort).limit(limit)\n",
    "df_hygiene = pd.DataFrame(hygiene_results)\n",
    "\n",
    "# Extract the Hygiene score from the scores field and drop the scores field\n",
    "df_hygiene[\"HygieneScore\"] = df_hygiene[\"scores\"].apply(lambda x: x[\"Hygiene\"])\n",
    "df_hygiene.drop(columns=[\"scores\"], inplace=True)\n",
    "\n",
    "# Display the first 5 rows of the DataFrame\n",
    "df_hygiene.head(5)"
   ]
  },
  {
   "cell_type": "markdown",
   "id": "67281254",
   "metadata": {},
   "source": [
    "### 4. How many establishments in each Local Authority area have a hygiene score of 0?"
   ]
  },
  {
   "cell_type": "code",
   "execution_count": 126,
   "id": "4eeb227e",
   "metadata": {},
   "outputs": [
    {
     "name": "stdout",
     "output_type": "stream",
     "text": [
      "Total documents: 55\n",
      "[{'_id': 'Thanet', 'count': 1130},\n",
      " {'_id': 'Greenwich', 'count': 882},\n",
      " {'_id': 'Maidstone', 'count': 713},\n",
      " {'_id': 'Newham', 'count': 711},\n",
      " {'_id': 'Swale', 'count': 686},\n",
      " {'_id': 'Chelmsford', 'count': 680},\n",
      " {'_id': 'Medway', 'count': 672},\n",
      " {'_id': 'Bexley', 'count': 607},\n",
      " {'_id': 'Southend-On-Sea', 'count': 586},\n",
      " {'_id': 'Tendring', 'count': 542}]\n"
     ]
    }
   ],
   "source": [
    "# Create a pipeline that:\n",
    "# 1. Matches establishments with a hygiene score of 0\n",
    "match_query = {\"$match\":{\"scores.Hygiene\": 0}}\n",
    "\n",
    "# 2. Groups the matches by Local Authority\n",
    "group_query = {\"$group\": {\"_id\": \"$LocalAuthorityName\", \"count\": {\"$sum\": 1}}}\n",
    "\n",
    "# 3. Sorts the matches from highest to lowest\n",
    "sort_query = {\"$sort\": {\"count\": -1}}\n",
    "\n",
    "# Print the number of documents in the result\n",
    "pipeline = [match_query, group_query, sort_query]\n",
    "result = list(establishments.aggregate(pipeline))\n",
    "print(f\"Total documents: {len(result)}\")\n",
    "\n",
    "# Print the first 10 results\n",
    "pprint(result[:10])\n"
   ]
  },
  {
   "cell_type": "code",
   "execution_count": 127,
   "id": "d8aab364",
   "metadata": {},
   "outputs": [
    {
     "name": "stdout",
     "output_type": "stream",
     "text": [
      "Number of rows: 55\n"
     ]
    },
    {
     "data": {
      "text/html": [
       "<div>\n",
       "<style scoped>\n",
       "    .dataframe tbody tr th:only-of-type {\n",
       "        vertical-align: middle;\n",
       "    }\n",
       "\n",
       "    .dataframe tbody tr th {\n",
       "        vertical-align: top;\n",
       "    }\n",
       "\n",
       "    .dataframe thead th {\n",
       "        text-align: right;\n",
       "    }\n",
       "</style>\n",
       "<table border=\"1\" class=\"dataframe\">\n",
       "  <thead>\n",
       "    <tr style=\"text-align: right;\">\n",
       "      <th></th>\n",
       "      <th>_id</th>\n",
       "      <th>count</th>\n",
       "    </tr>\n",
       "  </thead>\n",
       "  <tbody>\n",
       "    <tr>\n",
       "      <th>0</th>\n",
       "      <td>Thanet</td>\n",
       "      <td>1130</td>\n",
       "    </tr>\n",
       "    <tr>\n",
       "      <th>1</th>\n",
       "      <td>Greenwich</td>\n",
       "      <td>882</td>\n",
       "    </tr>\n",
       "    <tr>\n",
       "      <th>2</th>\n",
       "      <td>Maidstone</td>\n",
       "      <td>713</td>\n",
       "    </tr>\n",
       "    <tr>\n",
       "      <th>3</th>\n",
       "      <td>Newham</td>\n",
       "      <td>711</td>\n",
       "    </tr>\n",
       "    <tr>\n",
       "      <th>4</th>\n",
       "      <td>Swale</td>\n",
       "      <td>686</td>\n",
       "    </tr>\n",
       "    <tr>\n",
       "      <th>5</th>\n",
       "      <td>Chelmsford</td>\n",
       "      <td>680</td>\n",
       "    </tr>\n",
       "    <tr>\n",
       "      <th>6</th>\n",
       "      <td>Medway</td>\n",
       "      <td>672</td>\n",
       "    </tr>\n",
       "    <tr>\n",
       "      <th>7</th>\n",
       "      <td>Bexley</td>\n",
       "      <td>607</td>\n",
       "    </tr>\n",
       "    <tr>\n",
       "      <th>8</th>\n",
       "      <td>Southend-On-Sea</td>\n",
       "      <td>586</td>\n",
       "    </tr>\n",
       "    <tr>\n",
       "      <th>9</th>\n",
       "      <td>Tendring</td>\n",
       "      <td>542</td>\n",
       "    </tr>\n",
       "  </tbody>\n",
       "</table>\n",
       "</div>"
      ],
      "text/plain": [
       "               _id  count\n",
       "0           Thanet   1130\n",
       "1        Greenwich    882\n",
       "2        Maidstone    713\n",
       "3           Newham    711\n",
       "4            Swale    686\n",
       "5       Chelmsford    680\n",
       "6           Medway    672\n",
       "7           Bexley    607\n",
       "8  Southend-On-Sea    586\n",
       "9         Tendring    542"
      ]
     },
     "execution_count": 127,
     "metadata": {},
     "output_type": "execute_result"
    }
   ],
   "source": [
    "# Convert the result to a Pandas DataFrame\n",
    "df_local_authority = pd.DataFrame(result)\n",
    "\n",
    "# Display the number of rows in the DataFrame\n",
    "print(f\"Number of rows: {len(df_local_authority)}\")\n",
    "\n",
    "# Display the first 10 rows of the DataFrame\n",
    "df_local_authority.head(10)"
   ]
  },
  {
   "cell_type": "code",
   "execution_count": null,
   "id": "f5285ff9",
   "metadata": {},
   "outputs": [],
   "source": []
  }
 ],
 "metadata": {
  "kernelspec": {
   "display_name": "base",
   "language": "python",
   "name": "python3"
  },
  "language_info": {
   "codemirror_mode": {
    "name": "ipython",
    "version": 3
   },
   "file_extension": ".py",
   "mimetype": "text/x-python",
   "name": "python",
   "nbconvert_exporter": "python",
   "pygments_lexer": "ipython3",
   "version": "3.12.4"
  }
 },
 "nbformat": 4,
 "nbformat_minor": 5
}
